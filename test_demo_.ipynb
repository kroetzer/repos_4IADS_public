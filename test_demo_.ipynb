{
  "nbformat": 4,
  "nbformat_minor": 0,
  "metadata": {
    "colab": {
      "name": "test_demo .ipynb",
      "provenance": [],
      "collapsed_sections": [],
      "authorship_tag": "ABX9TyNS4XovoeS49eKDRX0cAAMC",
      "include_colab_link": true
    },
    "kernelspec": {
      "name": "python3",
      "display_name": "Python 3"
    },
    "language_info": {
      "name": "python"
    }
  },
  "cells": [
    {
      "cell_type": "markdown",
      "metadata": {
        "id": "view-in-github",
        "colab_type": "text"
      },
      "source": [
        "<a href=\"https://colab.research.google.com/github/kroetzer/repos_4IADS_public/blob/main/test_demo_.ipynb\" target=\"_parent\"><img src=\"https://colab.research.google.com/assets/colab-badge.svg\" alt=\"Open In Colab\"/></a>"
      ]
    },
    {
      "cell_type": "code",
      "metadata": {
        "colab": {
          "base_uri": "https://localhost:8080/"
        },
        "id": "RS8OLl1w_yly",
        "outputId": "920d4c2f-accc-46be-eb49-d8bbf04aa1ae"
      },
      "source": [
        "print ('welcome to IDAS summer school')\n",
        "# comment \n"
      ],
      "execution_count": 2,
      "outputs": [
        {
          "output_type": "stream",
          "text": [
            "welcome to IDAS summer school\n"
          ],
          "name": "stdout"
        }
      ]
    },
    {
      "cell_type": "markdown",
      "metadata": {
        "id": "kB-gogjWBVD6"
      },
      "source": [
        "type test here in markdown, e.g. this is my fist time using colab \n",
        "\n",
        "#Heading\n",
        "#Subheading \n",
        "## increase sub with #num\n",
        " 1. make a list\n",
        "2. second item "
      ]
    }
  ]
}